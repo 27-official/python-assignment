{
 "cells": [
  {
   "cell_type": "code",
   "execution_count": 9,
   "metadata": {},
   "outputs": [
    {
     "name": "stdout",
     "output_type": "stream",
     "text": [
      "Enter your marks of English :33\n",
      "Enter your marks of Mathematics :33\n",
      "Enter your marks of Computer:33\n",
      "Enter your marks of Urdu :33\n",
      "Enter your marks of Pakstudies :33\n",
      "Your Grade is F and your are fail.\n",
      "Your obtain marks is : 165\n"
     ]
    }
   ],
   "source": [
    "\n",
    "\n",
    "a = int(input(\"Enter your marks of English :\"))\n",
    "b = int(input(\"Enter your marks of Mathematics :\"))\n",
    "c = int(input(\"Enter your marks of Computer:\"))\n",
    "d = int(input(\"Enter your marks of Urdu :\"))\n",
    "e = int(input(\"Enter your marks of Pakstudies :\"))\n",
    "f = a+b+c+d+e\n",
    "\n",
    "avg = f/5\n",
    "if(avg>=95):\n",
    "    print(\"Your Grade is A+\")\n",
    "elif(avg>=85):\n",
    "    print(\"Your Grade is A\")\n",
    "elif(avg>=75):\n",
    "    print(\"Your Grade is B\")\n",
    "elif(avg>=65):\n",
    "    print(\"Your Grade is C\")\n",
    "elif(avg>=55):\n",
    "    print(\"Your Grade is D\")\n",
    "elif(avg<=40):\n",
    "    print(\"Your Grade is F and your are fail.\")\n",
    "print(\"Your obtain marks is :\" ,f)"
   ]
  },
  {
   "cell_type": "code",
   "execution_count": 10,
   "metadata": {},
   "outputs": [
    {
     "name": "stdout",
     "output_type": "stream",
     "text": [
      "Enter Any Number :55\n",
      "55 is Odd Number\n"
     ]
    }
   ],
   "source": [
    "x = int(input(\"Enter Any Number :\"))\n",
    "if (x%2==0):\n",
    "    print(x, \"is Even Number\")\n",
    "else :\n",
    "    print(x,\"is Odd Number\")"
   ]
  },
  {
   "cell_type": "code",
   "execution_count": 26,
   "metadata": {},
   "outputs": [
    {
     "name": "stdout",
     "output_type": "stream",
     "text": [
      "The lenght of list a and b is :  11 5\n"
     ]
    }
   ],
   "source": [
    "a=len([1 ,1 ,2 ,3 ,5 ,8 ,13 ,21 ,34 ,35 ,89])\n",
    "b=len(['Ali' , 'Umar' , 'Usman' , 'Bilal' , 'Usman'])\n",
    "print(\"The lenght of list a and b is : \" ,a , b) "
   ]
  },
  {
   "cell_type": "code",
   "execution_count": 27,
   "metadata": {},
   "outputs": [
    {
     "name": "stdout",
     "output_type": "stream",
     "text": [
      "The sum of all the numeric item is : 212\n"
     ]
    }
   ],
   "source": [
    "a=sum([1 ,1 ,2 ,3 ,5 ,8 ,13 ,21 ,34 ,35 ,89])\n",
    "print(\"The sum of all the numeric item is :\" ,a)"
   ]
  },
  {
   "cell_type": "code",
   "execution_count": 33,
   "metadata": {},
   "outputs": [
    {
     "name": "stdout",
     "output_type": "stream",
     "text": [
      "Enter the number for list :5\n",
      "Enter number :88\n",
      "Enter number :9\n",
      "Enter number :6\n",
      "Enter number :4\n",
      "[88, 9, 6, 4]\n",
      "Largest Number is : 88\n"
     ]
    }
   ],
   "source": [
    "a=[]\n",
    "n=int(input(\"Enter the number for list :\" ))\n",
    "for i in range(1, 5):\n",
    "    b=int(input(\"Enter number :\"))\n",
    "    a.append(b)\n",
    "print(a)\n",
    "Largest_number = max(a)\n",
    "print (\"Largest Number is :\" , Largest_number )"
   ]
  },
  {
   "cell_type": "code",
   "execution_count": 36,
   "metadata": {},
   "outputs": [
    {
     "name": "stdout",
     "output_type": "stream",
     "text": [
      "1\n",
      "1\n",
      "2\n",
      "3\n",
      "5\n"
     ]
    }
   ],
   "source": [
    "def findele():\n",
    "    a = [1,1,2,3,5,8,13,21,34,35,89]\n",
    "    for x in a :\n",
    "        if(x<7):\n",
    "            print(x)\n",
    "findele()"
   ]
  },
  {
   "cell_type": "code",
   "execution_count": null,
   "metadata": {},
   "outputs": [],
   "source": []
  }
 ],
 "metadata": {
  "kernelspec": {
   "display_name": "Python 3",
   "language": "python",
   "name": "python3"
  },
  "language_info": {
   "codemirror_mode": {
    "name": "ipython",
    "version": 3
   },
   "file_extension": ".py",
   "mimetype": "text/x-python",
   "name": "python",
   "nbconvert_exporter": "python",
   "pygments_lexer": "ipython3",
   "version": "3.7.4"
  }
 },
 "nbformat": 4,
 "nbformat_minor": 2
}
