{
 "cells": [
  {
   "cell_type": "code",
   "execution_count": 1,
   "metadata": {},
   "outputs": [
    {
     "name": "stdout",
     "output_type": "stream",
     "text": [
      "Enter a number to complete the factorial : 4\n",
      "24\n"
     ]
    }
   ],
   "source": [
    "def factorial(n):\n",
    "    if n == 0:\n",
    "        return 1\n",
    "    else :\n",
    "        return n * factorial(n-1)\n",
    "n = int(input(\"Enter a number to complete the factorial : \"))\n",
    "print(factorial(n))"
   ]
  },
  {
   "cell_type": "code",
   "execution_count": 1,
   "metadata": {},
   "outputs": [
    {
     "name": "stdout",
     "output_type": "stream",
     "text": [
      "Please Enter Any Text Only :Ali Raza \n",
      "Original String :  Ali Raza \n",
      "No. of Upper case characters is :  2\n",
      "No. of Lower case Characters is :  5\n"
     ]
    }
   ],
   "source": [
    "def my_string(s):\n",
    "    d = {\"UPPER_CASE\" : 0, \"LOWER_CASE\" : 0 }\n",
    "    for c in s:\n",
    "        if c.isupper():\n",
    "            d[\"UPPER_CASE\"]+=1\n",
    "        elif c.islower():\n",
    "            d[\"LOWER_CASE\"]+=1\n",
    "        else:\n",
    "            pass\n",
    "    print (\"Original String : \", s)\n",
    "    print (\"No. of Upper case characters is : \", d[\"UPPER_CASE\"])\n",
    "    print (\"No. of Lower case Characters is : \", d[\"LOWER_CASE\"])\n",
    "\n",
    "my_string(input(\"Please Enter Any Text Only :\")) "
   ]
  },
  {
   "cell_type": "code",
   "execution_count": 9,
   "metadata": {},
   "outputs": [
    {
     "name": "stdout",
     "output_type": "stream",
     "text": [
      "[2, 4, 6, 8, 10, 12, 14]\n"
     ]
    }
   ],
   "source": [
    "def my_even_num(n):\n",
    "    enum = []\n",
    "    for e in n :\n",
    "        if e % 2 == 0:\n",
    "            enum.append(e)\n",
    "    return enum\n",
    "print(my_even_num([1, 2, 3, 4, 5, 6, 7, 8, 9, 10, 11, 12, 13, 14, 15]))"
   ]
  },
  {
   "cell_type": "code",
   "execution_count": 28,
   "metadata": {},
   "outputs": [
    {
     "name": "stdout",
     "output_type": "stream",
     "text": [
      "Enter Any Text :Ali Raza A\n",
      "True\n"
     ]
    }
   ],
   "source": [
    "def my_palindrome(string):\n",
    "    left_pos = 0\n",
    "    right_pos = len(string) - 1\n",
    "    \n",
    "    while right_pos >= left_pos:\n",
    "        if not string[left_pos] == string[right_pos]:\n",
    "            return False\n",
    "        left_pos += 1\n",
    "        right_pos -= 1\n",
    "        return True\n",
    "print(my_palindrome(input('Enter Any Text :')))"
   ]
  },
  {
   "cell_type": "code",
   "execution_count": 37,
   "metadata": {},
   "outputs": [
    {
     "name": "stdout",
     "output_type": "stream",
     "text": [
      "False\n"
     ]
    }
   ],
   "source": [
    "def my_prime(p):\n",
    "    if (p==1):\n",
    "        return False\n",
    "    elif (p==2):\n",
    "        return True\n",
    "    else:\n",
    "        for x in range(2,p):\n",
    "            if(p % x==0):\n",
    "                return False\n",
    "        return True\n",
    "\n",
    "print(my_prime(100))"
   ]
  },
  {
   "cell_type": "code",
   "execution_count": 51,
   "metadata": {},
   "outputs": [
    {
     "name": "stdout",
     "output_type": "stream",
     "text": [
      "Your Shopping List :\n",
      " Atta\n",
      " Oli\n",
      " Soup\n",
      " Chicken\n",
      " Milk\n",
      " Salt\n"
     ]
    }
   ],
   "source": [
    "print(\"Your Shopping List :\" ,)\n",
    "def shop(*products):\n",
    "    for product in products:\n",
    "           print(product)\n",
    "\n",
    "shop(\" Atta\" , \" Oli\" , \" Soup\" , \" Chicken\" , \" Milk\" , \" Salt\" )"
   ]
  },
  {
   "cell_type": "code",
   "execution_count": null,
   "metadata": {},
   "outputs": [],
   "source": []
  }
 ],
 "metadata": {
  "kernelspec": {
   "display_name": "Python 3",
   "language": "python",
   "name": "python3"
  },
  "language_info": {
   "codemirror_mode": {
    "name": "ipython",
    "version": 3
   },
   "file_extension": ".py",
   "mimetype": "text/x-python",
   "name": "python",
   "nbconvert_exporter": "python",
   "pygments_lexer": "ipython3",
   "version": "3.7.4"
  }
 },
 "nbformat": 4,
 "nbformat_minor": 2
}
