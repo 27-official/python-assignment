{
 "cells": [
  {
   "cell_type": "code",
   "execution_count": 2,
   "metadata": {},
   "outputs": [
    {
     "name": "stdout",
     "output_type": "stream",
     "text": [
      "Select Operation.\n",
      "1.Add\n",
      "1.Substract\n",
      "1.Multiply\n",
      "1.Divide\n",
      "1.Power\n",
      "Enter choise (1/2/3/4/5): 5\n",
      "Enter first number : 5\n",
      "Enter second number : 5\n",
      "5 ^ 5 = 3125\n"
     ]
    }
   ],
   "source": [
    "def add(x,y):\n",
    "    return(x+y)\n",
    "def substract(x,y):\n",
    "    return(x-y)\n",
    "def multiply(x,y):\n",
    "    return(x*y)\n",
    "def devide(x,y):\n",
    "    return(x/y)\n",
    "def power(x,y):\n",
    "    return pow(x,y)\n",
    "print(\"Select Operation.\")\n",
    "print(\"1.Add\")\n",
    "print(\"1.Substract\")\n",
    "print(\"1.Multiply\")\n",
    "print(\"1.Divide\")\n",
    "print(\"1.Power\")\n",
    "choice =input(\"Enter choise (1/2/3/4/5): \")\n",
    "\n",
    "num1 = int(input(\"Enter first number : \"))\n",
    "num2 = int(input(\"Enter second number : \"))\n",
    "\n",
    "if choice =='1':\n",
    "    print(num1, \"+\", num2, \"=\", add(num1,num2) )\n",
    "    \n",
    "elif choice =='2':\n",
    "    print(num1, \"-\", num2, \"=\", substract(num1,num2) )\n",
    "    \n",
    "if choice =='3':\n",
    "    print(num1, \"x\", num2, \"=\", multiply(num1,num2) )\n",
    "    \n",
    "if choice =='4':\n",
    "    print(num1, \"/\", num2, \"=\", divide(num1,num2) )\n",
    "    \n",
    "if choice =='5':\n",
    "    print(num1, \"^\", num2, \"=\", power(num1,num2) )\n",
    "else :\n",
    "    print(\"Invalid input\")"
   ]
  },
  {
   "cell_type": "code",
   "execution_count": 40,
   "metadata": {
    "scrolled": false
   },
   "outputs": [
    {
     "name": "stdout",
     "output_type": "stream",
     "text": [
      "Numeric value found : 4\n"
     ]
    }
   ],
   "source": [
    "the_list = [\"Ali\",  \"3\", 4,\"PakistanZindabad\"]\n",
    "for value in the_list:\n",
    "    if type(value) == int or type(value) == float:\n",
    "        print(f\"Numeric value found : {value}\")\n",
    "        break"
   ]
  },
  {
   "cell_type": "code",
   "execution_count": 41,
   "metadata": {},
   "outputs": [
    {
     "name": "stdout",
     "output_type": "stream",
     "text": [
      "Key added\n"
     ]
    }
   ],
   "source": [
    "dic = {}\n",
    "dic[1] = \"Key added\"\n",
    "\n",
    "print(dic[1])"
   ]
  },
  {
   "cell_type": "code",
   "execution_count": 43,
   "metadata": {},
   "outputs": [
    {
     "name": "stdout",
     "output_type": "stream",
     "text": [
      "Sum = 106.4\n"
     ]
    }
   ],
   "source": [
    "result = 0\n",
    "dic = {1: 2 ,\n",
    "           2: \"Ali Raza\", \n",
    "           3: 4.4, \n",
    "           4:\"Not numerical\",\n",
    "           5: 100}\n",
    "\n",
    "for value in dic.values():\n",
    "    if type(value) == int or type(value) == float:\n",
    "        result = result + value        \n",
    "        \n",
    "print(f\"Sum = {result}\")"
   ]
  },
  {
   "cell_type": "code",
   "execution_count": 45,
   "metadata": {},
   "outputs": [
    {
     "name": "stdout",
     "output_type": "stream",
     "text": [
      "Duplicated Ali Raza\n",
      "Duplicated 1\n",
      "Duplicated 1\n",
      "Duplicated 6\n",
      "Duplicated 6\n",
      "Duplicated Ali Raza\n"
     ]
    }
   ],
   "source": [
    "the_list = [\"Ali Raza\", \"PakistanZindabad\", 1, 1, 0.4, 2, 3, 4, 6, 6 ,\"Ali Raza\" , \"Umar\"]\n",
    "for value in the_list:\n",
    "    if  the_list.count(value) > 1:\n",
    "        print(f\"Duplicated {value}\")"
   ]
  },
  {
   "cell_type": "code",
   "execution_count": 46,
   "metadata": {},
   "outputs": [
    {
     "name": "stdout",
     "output_type": "stream",
     "text": [
      "3 Already exists\n"
     ]
    }
   ],
   "source": [
    "dic = { 1: \"key1\",\n",
    "            2: \"key2\",\n",
    "            3: \"key3\"}\n",
    "\n",
    "given_key = 3\n",
    "\n",
    "for key in dic.keys():\n",
    "    if key == given_key:\n",
    "        print(f\"{given_key} Already exists\")"
   ]
  },
  {
   "cell_type": "code",
   "execution_count": null,
   "metadata": {},
   "outputs": [],
   "source": []
  }
 ],
 "metadata": {
  "kernelspec": {
   "display_name": "Python 3",
   "language": "python",
   "name": "python3"
  },
  "language_info": {
   "codemirror_mode": {
    "name": "ipython",
    "version": 3
   },
   "file_extension": ".py",
   "mimetype": "text/x-python",
   "name": "python",
   "nbconvert_exporter": "python",
   "pygments_lexer": "ipython3",
   "version": "3.7.4"
  }
 },
 "nbformat": 4,
 "nbformat_minor": 2
}
